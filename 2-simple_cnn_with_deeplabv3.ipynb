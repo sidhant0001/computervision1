{
 "cells": [
  {
   "cell_type": "markdown",
   "metadata": {
    "application/vnd.databricks.v1+cell": {
     "cellMetadata": {
      "byteLimit": 2048000,
      "rowLimit": 10000
     },
     "inputWidgets": {},
     "nuid": "80524c3e-41a8-4c29-94cb-6cb2153429fa",
     "showTitle": false,
     "tableResultSettingsMap": {},
     "title": ""
    }
   },
   "source": [
    "#### imports"
   ]
  },
  {
   "cell_type": "code",
   "execution_count": 0,
   "metadata": {
    "application/vnd.databricks.v1+cell": {
     "cellMetadata": {
      "byteLimit": 2048000,
      "rowLimit": 10000
     },
     "inputWidgets": {},
     "nuid": "62df0367-d951-4d8d-8c95-3c5e745daf87",
     "showTitle": false,
     "tableResultSettingsMap": {},
     "title": ""
    }
   },
   "outputs": [],
   "source": [
    "pip install torch torchvision matplotlib pillow\n"
   ]
  },
  {
   "cell_type": "code",
   "execution_count": 0,
   "metadata": {
    "application/vnd.databricks.v1+cell": {
     "cellMetadata": {
      "byteLimit": 2048000,
      "rowLimit": 10000
     },
     "inputWidgets": {},
     "nuid": "071fcb90-f00c-4f9a-98a1-c1670a6e8637",
     "showTitle": false,
     "tableResultSettingsMap": {},
     "title": ""
    }
   },
   "outputs": [],
   "source": [
    "dbutils.library.restartPython()"
   ]
  },
  {
   "cell_type": "code",
   "execution_count": 0,
   "metadata": {
    "application/vnd.databricks.v1+cell": {
     "cellMetadata": {
      "byteLimit": 2048000,
      "rowLimit": 10000
     },
     "inputWidgets": {},
     "nuid": "4c00b83b-daab-47de-ab0d-9dd60849f34b",
     "showTitle": false,
     "tableResultSettingsMap": {},
     "title": ""
    }
   },
   "outputs": [],
   "source": [
    "import torch\n",
    "import os\n",
    "from PIL import Image\n",
    "from torchvision import transforms\n",
    "from torch.utils.data import Dataset, DataLoader\n",
    "import torch.nn as nn\n",
    "import torch.optim as optim\n",
    "from torchvision.models.segmentation import deeplabv3_resnet50\n",
    "import matplotlib.pyplot as plt\n",
    "import numpy as np\n",
    "\n",
    "# Keep your existing dataset class\n",
    "class generate_image_dataset(Dataset):\n",
    "    def __init__(self, image_dir, transform=None):\n",
    "        self.image_dir = image_dir\n",
    "        self.image_paths = []\n",
    "        self.labels = []\n",
    "        self.class_name = {}\n",
    "        self.transform = transform\n",
    "\n",
    "        for label, class_dir in enumerate(os.listdir(image_dir)):\n",
    "            self.class_name[label] = class_dir\n",
    "            class_path = os.path.join(image_dir, class_dir)\n",
    "            for img_name in os.listdir(class_path):\n",
    "                self.image_paths.append(os.path.join(class_path, img_name))\n",
    "                self.labels.append(label)\n",
    "\n",
    "    def __len__(self):\n",
    "        return len(self.image_paths)\n",
    "\n",
    "    def __getitem__(self, idx):\n",
    "        image_path = self.image_paths[idx]\n",
    "        image = Image.open(image_path).convert('RGB')\n",
    "        label = self.labels[idx]\n",
    "\n",
    "        if self.transform:\n",
    "            image = self.transform(image)\n",
    "\n",
    "        return image, label\n",
    "\n",
    "# Updated transform with ImageNet normalization (better for pre-trained models)\n",
    "transform = transforms.Compose([\n",
    "    transforms.Resize((224, 224)),  # DeepLab typically uses larger input size\n",
    "    transforms.ToTensor(),\n",
    "    transforms.Normalize(mean=[0.485, 0.456, 0.406], std=[0.229, 0.224, 0.225])  # ImageNet normalization\n",
    "])\n",
    "\n",
    "train_image_dir = '/Workspace/sid-v2/computervision1/Classification_dataset_v3/images/train'\n",
    "test_image_dir = '/Workspace/sid-v2/computervision1/Classification_dataset_v3/images/test'\n",
    "\n",
    "training_image_dataset = generate_image_dataset(image_dir=train_image_dir, transform=transform)\n",
    "test_image_dataset = generate_image_dataset(image_dir=test_image_dir, transform=transform)\n",
    "\n",
    "train_image_loader = DataLoader(dataset=training_image_dataset, batch_size=16, shuffle=True)  # Reduced batch size\n",
    "test_image_loader = DataLoader(dataset=test_image_dataset, batch_size=16, shuffle=False)\n",
    "\n",
    "class DeepLabV3Classifier(nn.Module):\n",
    "    def __init__(self, num_classes):\n",
    "        super(DeepLabV3Classifier, self).__init__()\n",
    "        # Load pre-trained DeepLab v3\n",
    "        self.deeplab = deeplabv3_resnet50(pretrained=True)\n",
    "        \n",
    "        # Extract the backbone (ResNet-50 encoder)\n",
    "        self.backbone = self.deeplab.backbone\n",
    "        \n",
    "        # Add global average pooling and classification head\n",
    "        self.global_avg_pool = nn.AdaptiveAvgPool2d((1, 1))\n",
    "        self.classifier = nn.Sequential(\n",
    "            nn.Dropout(0.5),\n",
    "            nn.Linear(2048, 512),  # ResNet-50 outputs 2048 features\n",
    "            nn.ReLU(),\n",
    "            nn.Dropout(0.3),\n",
    "            nn.Linear(512, 128),\n",
    "            nn.ReLU(),\n",
    "            nn.Linear(128, num_classes)\n",
    "        )\n",
    "        \n",
    "        # Freeze backbone layers (optional - remove these lines to fine-tune)\n",
    "        for param in self.backbone.parameters():\n",
    "            param.requires_grad = False\n",
    "            \n",
    "    def forward(self, x):\n",
    "        # Extract features using DeepLab backbone\n",
    "        features = self.backbone(x)['out']  # Get the output features\n",
    "        \n",
    "        # Global average pooling\n",
    "        pooled = self.global_avg_pool(features)\n",
    "        pooled = pooled.view(pooled.size(0), -1)  # Flatten\n",
    "        \n",
    "        # Classification\n",
    "        output = self.classifier(pooled)\n",
    "        return output\n",
    "\n",
    "device = torch.device(\"cuda\" if torch.cuda.is_available() else \"cpu\")\n",
    "print(f\"Using device: {device}\")\n",
    "\n",
    "model = DeepLabV3Classifier(num_classes=3).to(device)\n",
    "\n",
    "criterion = nn.CrossEntropyLoss()\n",
    "# Only train classifier if backbone is frozen, otherwise train all\n",
    "optimizer = optim.Adam(model.classifier.parameters(), lr=0.001)  # Only classifier params\n",
    "# optimizer = optim.Adam(model.parameters(), lr=0.0001)  # Use this for full fine-tuning\n",
    "\n",
    "epochs = 10\n",
    "\n",
    "print(\"Starting training with DeepLab v3 feature extractor...\")\n",
    "for epoch in range(epochs):\n",
    "    model.train()\n",
    "    running_loss = 0.0\n",
    "    correct = 0\n",
    "    total = 0\n",
    "    \n",
    "    for batch_idx, (images, labels) in enumerate(train_image_loader):\n",
    "        images, labels = images.to(device), labels.to(device)\n",
    "        \n",
    "        optimizer.zero_grad()\n",
    "        outputs = model(images)\n",
    "        loss = criterion(outputs, labels)\n",
    "        loss.backward()\n",
    "        optimizer.step()\n",
    "        \n",
    "        running_loss += loss.item()\n",
    "        _, predicted = torch.max(outputs.data, 1)\n",
    "        total += labels.size(0)\n",
    "        correct += (predicted == labels).sum().item()\n",
    "        \n",
    "        if batch_idx % 10 == 0:\n",
    "            print(f'Epoch {epoch+1}/{epochs}, Batch {batch_idx}, Loss: {loss.item():.4f}')\n",
    "    \n",
    "    epoch_loss = running_loss / len(train_image_loader)\n",
    "    epoch_acc = 100 * correct / total\n",
    "    print(f\"Epoch {epoch+1}/{epochs}, Average Loss: {epoch_loss:.4f}, Accuracy: {epoch_acc:.2f}%\")\n",
    "\n",
    "print(\"Training completed!\")\n",
    "\n",
    "# Evaluation\n",
    "model.eval()\n",
    "correct = 0\n",
    "total = 0\n",
    "with torch.no_grad():\n",
    "    for images, labels in test_image_loader:\n",
    "        images, labels = images.to(device), labels.to(device)\n",
    "        outputs = model(images)\n",
    "        _, predicted = torch.max(outputs, 1)\n",
    "        total += labels.size(0)\n",
    "        correct += (predicted == labels).sum().item()\n",
    "\n",
    "test_accuracy = 100 * correct / total\n",
    "print(f'Test Accuracy: {test_accuracy:.2f}%')\n",
    "\n",
    "# Visualize a few predictions\n",
    "model.eval()\n",
    "with torch.no_grad():\n",
    "    for images, labels in test_image_loader:\n",
    "        images, labels = images.to(device), labels.to(device)\n",
    "        outputs = model(images)\n",
    "        _, predicted = torch.max(outputs, 1)\n",
    "        \n",
    "        # Show first image\n",
    "        img = images[0].cpu().numpy()\n",
    "        img = np.transpose(img, (1, 2, 0))\n",
    "        # Denormalize for display\n",
    "        mean = np.array([0.485, 0.456, 0.406])\n",
    "        std = np.array([0.229, 0.224, 0.225])\n",
    "        img = std * img + mean\n",
    "        img = np.clip(img, 0, 1)\n",
    "        \n",
    "        plt.figure(figsize=(8, 6))\n",
    "        plt.imshow(img)\n",
    "        plt.title(f'True: {training_image_dataset.class_name[labels[0].item()]}, '\n",
    "                  f'Predicted: {training_image_dataset.class_name[predicted[0].item()]}')\n",
    "        plt.axis('off')\n",
    "        plt.show()\n",
    "        break"
   ]
  },
  {
   "cell_type": "code",
   "execution_count": 0,
   "metadata": {
    "application/vnd.databricks.v1+cell": {
     "cellMetadata": {
      "byteLimit": 2048000,
      "rowLimit": 10000
     },
     "inputWidgets": {},
     "nuid": "4eacb3d7-691a-4464-a533-76ee5c627570",
     "showTitle": false,
     "tableResultSettingsMap": {},
     "title": ""
    }
   },
   "outputs": [],
   "source": []
  }
 ],
 "metadata": {
  "application/vnd.databricks.v1+notebook": {
   "computePreferences": null,
   "dashboards": [],
   "environmentMetadata": {
    "base_environment": "",
    "environment_version": "2"
   },
   "inputWidgetPreferences": null,
   "language": "python",
   "notebookMetadata": {
    "pythonIndentUnit": 4
   },
   "notebookName": "2-simple_cnn_with_deeplabv3",
   "widgets": {}
  },
  "language_info": {
   "name": "python"
  }
 },
 "nbformat": 4,
 "nbformat_minor": 0
}
